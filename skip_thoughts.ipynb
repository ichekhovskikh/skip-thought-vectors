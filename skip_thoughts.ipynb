{
  "nbformat": 4,
  "nbformat_minor": 0,
  "metadata": {
    "colab": {
      "name": "skip-thoughts",
      "provenance": [],
      "collapsed_sections": [],
      "toc_visible": true,
      "mount_file_id": "1Lwcft8Qh6LnaMy7ulczmjgM__n19ZrSL",
      "authorship_tag": "ABX9TyPh069dsZzxIS1Eu+2Argc9",
      "include_colab_link": true
    },
    "kernelspec": {
      "name": "python3",
      "display_name": "Python 3"
    }
  },
  "cells": [
    {
      "cell_type": "markdown",
      "metadata": {
        "id": "view-in-github",
        "colab_type": "text"
      },
      "source": [
        "<a href=\"https://colab.research.google.com/github/ichekhovskikh/skip-thought-vectors/blob/master/skip_thoughts.ipynb\" target=\"_parent\"><img src=\"https://colab.research.google.com/assets/colab-badge.svg\" alt=\"Open In Colab\"/></a>"
      ]
    },
    {
      "cell_type": "code",
      "metadata": {
        "id": "WetwZIyMQdzp",
        "colab_type": "code",
        "colab": {
          "base_uri": "https://localhost:8080/",
          "height": 52
        },
        "outputId": "dd28ec2d-d688-4572-c3f6-aac80e8d3385"
      },
      "source": [
        "!echo -e \"\\n[global]\\nfloatX=float32\\n\" >> ~/.theanorc\n",
        "\n",
        "import importlib.util\n",
        "import sys\n",
        "from google.colab import drive\n",
        "\n",
        "sys.path.append('/content/drive/My Drive/skip-thoughts-master/training')\n",
        "import vocab\n",
        "import train\n",
        "import tools"
      ],
      "execution_count": 2,
      "outputs": [
        {
          "output_type": "stream",
          "text": [
            "[nltk_data] Downloading package punkt to /root/nltk_data...\n",
            "[nltk_data]   Unzipping tokenizers/punkt.zip.\n"
          ],
          "name": "stdout"
        }
      ]
    },
    {
      "cell_type": "code",
      "metadata": {
        "id": "fyz9TC-oQgu2",
        "colab_type": "code",
        "colab": {
          "base_uri": "https://localhost:8080/",
          "height": 35
        },
        "outputId": "7fcebfe3-c390-42d0-f538-268a64ffa108"
      },
      "source": [
        "drive.mount('/content/drive/')"
      ],
      "execution_count": 3,
      "outputs": [
        {
          "output_type": "stream",
          "text": [
            "Drive already mounted at /content/drive/; to attempt to forcibly remount, call drive.mount(\"/content/drive/\", force_remount=True).\n"
          ],
          "name": "stdout"
        }
      ]
    },
    {
      "cell_type": "code",
      "metadata": {
        "id": "uIgFPnpL6CBe",
        "colab_type": "code",
        "outputId": "d3cf67f7-1e0a-46e8-c3e2-f6888a5a2d50",
        "colab": {
          "base_uri": "https://localhost:8080/",
          "height": 696
        }
      },
      "source": [
        "text = [\"первое предложение\", \"второе предложение\", \"третье предложение\", \"что-то еще предложение\"]\n",
        "worddict, wordcount = vocab.build_dictionary(text)\n",
        "vocab.save_dictionary(worddict, wordcount, \"/content/drive/My Drive/sample_data/vocab.pkl\")\n",
        "\n",
        "train.trainer(\n",
        "    text, \n",
        "    n_words=len(worddict) + 2,\n",
        "    dictionary=\"/content/drive/My Drive/sample_data/vocab.pkl\",\n",
        "    saveto=\"/content/drive/My Drive/sample_data/model.npz\",\n",
        "    saveFreq=1)\n",
        "\n"
      ],
      "execution_count": 4,
      "outputs": [
        {
          "output_type": "stream",
          "text": [
            "{'dim_word': 620, 'dim': 2400, 'encoder': 'gru', 'decoder': 'gru', 'max_epochs': 5, 'dispFreq': 1, 'decay_c': 0.0, 'grad_clip': 5.0, 'n_words': 8, 'maxlen_w': 30, 'optimizer': 'adam', 'batch_size': 64, 'saveto': '/content/drive/My Drive/sample_data/model.npz', 'dictionary': '/content/drive/My Drive/sample_data/vocab.pkl', 'saveFreq': 1, 'reload_': False}\n",
            "Loading dictionary...\n",
            "Building model\n",
            "Building f_log_probs...\n"
          ],
          "name": "stdout"
        },
        {
          "output_type": "stream",
          "text": [
            "WARNING (theano.tensor.blas): We did not find a dynamic library in the library_dir of the library we use for blas. If you use ATLAS, make sure to compile it with dynamics library.\n"
          ],
          "name": "stderr"
        },
        {
          "output_type": "stream",
          "text": [
            "Done\n",
            "Building f_cost...\n",
            "Done\n",
            "Done\n",
            "Building f_grad...\n",
            "Building optimizers...\n",
            "Optimization\n",
            "Epoch  0\n",
            "Epoch  0 Update  1 Cost  26.77531 UD  2.6113743782043457\n",
            "Saving...\n",
            "Done\n",
            "Seen 2 samples\n",
            "Epoch  1\n",
            "Epoch  1 Update  2 Cost  12.288796 UD  2.6033074855804443\n",
            "Saving...\n",
            "Done\n",
            "Seen 2 samples\n",
            "Epoch  2\n",
            "Epoch  2 Update  3 Cost  4.2547326 UD  2.4849472045898438\n",
            "Saving...\n",
            "Done\n",
            "Seen 2 samples\n",
            "Epoch  3\n",
            "Epoch  3 Update  4 Cost  0.56317544 UD  2.474827527999878\n",
            "Saving...\n",
            "Done\n",
            "Seen 2 samples\n",
            "Epoch  4\n",
            "Epoch  4 Update  5 Cost  0.014670965 UD  2.4784438610076904\n",
            "Saving...\n",
            "Done\n",
            "Seen 2 samples\n",
            "Finish\n"
          ],
          "name": "stdout"
        }
      ]
    },
    {
      "cell_type": "code",
      "metadata": {
        "id": "N28-i0LFzjZI",
        "colab_type": "code",
        "colab": {
          "base_uri": "https://localhost:8080/",
          "height": 72
        },
        "outputId": "36cab53f-43c5-4b04-eaa9-977ad5cca609"
      },
      "source": [
        "from gensim.models import Word2Vec, KeyedVectors\n",
        "\n",
        "text_split_on_words = [['первое', 'предложение'], ['второе', 'предложение'], ['третье', 'предложение'], ['что-то', 'еще', 'предложение']]\n",
        "\n",
        "model = Word2Vec(text_split_on_words, size=300, window=5, min_count=1, workers=4)\n",
        "model.wv.save_word2vec_format('/content/drive/My Drive/sample_data/word2vec.bin', binary=True)\n",
        "embed_map = KeyedVectors.load_word2vec_format('/content/drive/My Drive/sample_data/word2vec.bin', binary=True)"
      ],
      "execution_count": 5,
      "outputs": [
        {
          "output_type": "stream",
          "text": [
            "/usr/local/lib/python3.6/dist-packages/smart_open/smart_open_lib.py:410: UserWarning: This function is deprecated, use smart_open.open instead. See the migration notes for details: https://github.com/RaRe-Technologies/smart_open/blob/master/README.rst#migrating-to-the-new-open-function\n",
            "  'See the migration notes for details: %s' % _MIGRATION_NOTES_URL\n"
          ],
          "name": "stderr"
        }
      ]
    },
    {
      "cell_type": "code",
      "metadata": {
        "id": "dmqa1li0DAnO",
        "colab_type": "code",
        "colab": {
          "base_uri": "https://localhost:8080/",
          "height": 193
        },
        "outputId": "ecf37f90-72a3-4114-9094-bca948218456"
      },
      "source": [
        "model = tools.load_model(\n",
        "    path_to_model = '/content/drive/My Drive/sample_data/model.npz',\n",
        "    path_to_dictionary = '/content/drive/My Drive/sample_data/vocab.pkl',\n",
        "    path_to_word2vec = '/content/drive/My Drive/sample_data/word2vec.bin')\n"
      ],
      "execution_count": 6,
      "outputs": [
        {
          "output_type": "stream",
          "text": [
            "/usr/local/lib/python3.6/dist-packages/smart_open/smart_open_lib.py:410: UserWarning: This function is deprecated, use smart_open.open instead. See the migration notes for details: https://github.com/RaRe-Technologies/smart_open/blob/master/README.rst#migrating-to-the-new-open-function\n",
            "  'See the migration notes for details: %s' % _MIGRATION_NOTES_URL\n"
          ],
          "name": "stderr"
        },
        {
          "output_type": "stream",
          "text": [
            "Loading dictionary...\n",
            "Creating inverted dictionary...\n",
            "Loading model options...\n",
            "Loading model parameters...\n",
            "Compiling encoder...\n",
            "Creating word lookup tables...\n",
            "Packing up...\n"
          ],
          "name": "stdout"
        }
      ]
    },
    {
      "cell_type": "code",
      "metadata": {
        "id": "fcfi76RkKc8j",
        "colab_type": "code",
        "colab": {}
      },
      "source": [
        "vectors = tools.encode(model, text)"
      ],
      "execution_count": 0,
      "outputs": []
    },
    {
      "cell_type": "code",
      "metadata": {
        "id": "sZ8hxIVpStCt",
        "colab_type": "code",
        "colab": {}
      },
      "source": [
        "def cosine_similarity(first_vector, second_vector):\n",
        "    numerator = sum([x * y for x, y in zip(first_vector, second_vector)])\n",
        "    first_norm = pow(sum([x * x for x in first_vector]), 0.5)\n",
        "    second_norm = pow(sum([x * x for x in second_vector]), 0.5)\n",
        "    return numerator / (first_norm * second_norm)"
      ],
      "execution_count": 0,
      "outputs": []
    },
    {
      "cell_type": "code",
      "metadata": {
        "id": "dmcV-Dw_Sujg",
        "colab_type": "code",
        "colab": {
          "base_uri": "https://localhost:8080/",
          "height": 35
        },
        "outputId": "f2fa9ac4-c7ef-4029-c3ac-9790423fc421"
      },
      "source": [
        "print(cosine_similarity(vectors[0], vectors[1]))"
      ],
      "execution_count": 23,
      "outputs": [
        {
          "output_type": "stream",
          "text": [
            "0.45222118707126796\n"
          ],
          "name": "stdout"
        }
      ]
    }
  ]
}